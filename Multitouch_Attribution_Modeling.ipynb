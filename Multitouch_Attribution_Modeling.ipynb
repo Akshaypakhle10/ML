{
  "nbformat": 4,
  "nbformat_minor": 0,
  "metadata": {
    "colab": {
      "name": "Multitouch_Attribution_Modeling.ipynb",
      "provenance": [],
      "include_colab_link": true
    },
    "kernelspec": {
      "name": "python2",
      "display_name": "Python 2"
    }
  },
  "cells": [
    {
      "cell_type": "markdown",
      "metadata": {
        "id": "view-in-github",
        "colab_type": "text"
      },
      "source": [
        "<a href=\"https://colab.research.google.com/github/Akshaypakhle10/ML/blob/master/Multitouch_Attribution_Modeling.ipynb\" target=\"_parent\"><img src=\"https://colab.research.google.com/assets/colab-badge.svg\" alt=\"Open In Colab\"/></a>"
      ]
    },
    {
      "cell_type": "markdown",
      "metadata": {
        "id": "97dyiCngzXJR",
        "colab_type": "text"
      },
      "source": [
        "# Probabilistic Multi-Touch Attribution Model\n",
        "\n",
        "We will demonstrate how to apply a probabilistic, multi-touch attribution model to your GA data using Python and BigQuery libraries. The procedure in this notebook is based on an article published in 2011 by [Xuhui Shao.](https://www.linkedin.com/in/xuhuishao/) The resulting score helps marketers better understand their channel investments.\n",
        "\n",
        "Big thanks to [Anže Kravanja](https://www.linkedin.com/in/an%C5%BEe-kravanja-54006194/), [Luka Cempre](https://www.linkedin.com/in/luka-cempre-9b5ba71a/), and [Clay Porter](https://www.linkedin.com/in/clayporter1/) for their help in putting this notebook together!\n",
        "\n",
        "Here is the author, [Xuhui Shao](https://www.linkedin.com/in/xuhuishao/), describing the <a href=\"https://www.clickz.com/the-math-behind-multi-touch-attribution/50028/\">math behind the model</a>:  \n",
        "\n",
        "<img src=\"https://storage.googleapis.com/pats-test/images/model.png\">\n",
        "\n",
        ">Let’s say for one converted user, email contributes 15 percent alone and makes other channels such as display and video 20 percent better. The overall contribution of email to this conversion is 35 percent.\n",
        "\n",
        ">The contributions of all the touch points are then normalized to ensure they always add up to 100 percent. In other words, the credit of the conversion is proportionately assigned to each touch point based on its relative contribution in increasing the user’s probability to convert."
      ]
    },
    {
      "cell_type": "markdown",
      "metadata": {
        "id": "Hq1X1eRHYRmk",
        "colab_type": "text"
      },
      "source": [
        "#Markov Chain Approach"
      ]
    },
    {
      "cell_type": "code",
      "metadata": {
        "id": "y2ktQhlfYZwl",
        "colab_type": "code",
        "colab": {}
      },
      "source": [
        "#Importing necessary Libraries\n",
        "import pandas as pd\n",
        "import numpy as np\n",
        "import itertools\n",
        "import urllib2\n",
        "import matplotlib.pylab as plt\n",
        "plt.style.use(\"fivethirtyeight\")\n",
        "import seaborn as sns\n",
        "import subprocess"
      ],
      "execution_count": 0,
      "outputs": []
    },
    {
      "cell_type": "markdown",
      "metadata": {
        "id": "6iWCFXRK2XRt",
        "colab_type": "text"
      },
      "source": [
        "## Query GA Data in BigQuery\n",
        "The <a href=\"https://storage.googleapis.com/pats-test/sql/multi_touch_attribution.sql\">multi_touch_attribution.sql</a> SQL is used to format our data in the appropriate schema for our data pipeline.\n",
        "\n",
        "You'll want to download and inspect the SQL, and then upload that file to your local Drive directory below:"
      ]
    },
    {
      "cell_type": "markdown",
      "metadata": {
        "id": "mx4M6LWr2s6C",
        "colab_type": "text"
      },
      "source": [
        "You're ready to execute the query after adding a target table and start and end dates. In our case we're using the BigQuery GA data for Google Merchandize Store.\n"
      ]
    },
    {
      "cell_type": "code",
      "metadata": {
        "id": "JJDERjTMMdbt",
        "colab_type": "code",
        "colab": {}
      },
      "source": [
        "#@title Enter your BigQuery project ID { run: \"auto\", display-mode: \"form\" }\n",
        "project = \"multi-touch-attribution-268621\" #@param {type:\"string\"}\n",
        "target = \"bigquery-public-data.google_analytics_sample.ga_sessions_*\" #@param {type:\"string\"}\n",
        "start = \"2017-07-01\" #@param {type:\"date\"}\n",
        "end = \"2020-08-01\" #@param {type:\"date\"}\n"
      ],
      "execution_count": 0,
      "outputs": []
    },
    {
      "cell_type": "code",
      "metadata": {
        "id": "cZH91Fpus_Pv",
        "colab_type": "code",
        "colab": {}
      },
      "source": [
        "sql_query = urllib2 \\\n",
        "  .urlopen(\"https://storage.googleapis.com/akshay-pakhle/sql/multi_touch_attribution.sql\") \\\n",
        "  .read().format(target,start.replace(\"-\",\"\"),end.replace(\"-\",\"\"))\n",
        "\n",
        "ga_data = pd.io.gbq.read_gbq(sql_query,project_id=project,dialect='standard')\n",
        "\n",
        "print ga_data.shape\n",
        "ga_data.sample(5)"
      ],
      "execution_count": 0,
      "outputs": []
    },
    {
      "cell_type": "code",
      "metadata": {
        "id": "-Aj-Jbh9Yid2",
        "colab_type": "code",
        "colab": {
          "base_uri": "https://localhost:8080/",
          "height": 221
        },
        "outputId": "9cd143f7-f39a-428d-8287-6c8eabd93e9a"
      },
      "source": [
        "#Reading in Data\n",
        "df = pd.read_csv('/content/drive/My Drive/Datasets/Channel_attribution.csv')\n",
        "df.head()"
      ],
      "execution_count": 10,
      "outputs": [
        {
          "output_type": "execute_result",
          "data": {
            "text/html": [
              "<div>\n",
              "<style scoped>\n",
              "    .dataframe tbody tr th:only-of-type {\n",
              "        vertical-align: middle;\n",
              "    }\n",
              "\n",
              "    .dataframe tbody tr th {\n",
              "        vertical-align: top;\n",
              "    }\n",
              "\n",
              "    .dataframe thead th {\n",
              "        text-align: right;\n",
              "    }\n",
              "</style>\n",
              "<table border=\"1\" class=\"dataframe\">\n",
              "  <thead>\n",
              "    <tr style=\"text-align: right;\">\n",
              "      <th></th>\n",
              "      <th>R05A.01</th>\n",
              "      <th>R05A.02</th>\n",
              "      <th>R05A.03</th>\n",
              "      <th>R05A.04</th>\n",
              "      <th>R05A.05</th>\n",
              "      <th>R05A.06</th>\n",
              "      <th>R05A.07</th>\n",
              "      <th>R05A.08</th>\n",
              "      <th>R05A.09</th>\n",
              "      <th>R05A.10</th>\n",
              "      <th>R05A.11</th>\n",
              "      <th>R05A.12</th>\n",
              "      <th>R05A.13</th>\n",
              "      <th>R05A.14</th>\n",
              "      <th>R05A.15</th>\n",
              "      <th>R05A.16</th>\n",
              "      <th>R05A.17</th>\n",
              "      <th>R05A.18</th>\n",
              "      <th>R05A.19</th>\n",
              "      <th>R05A.20</th>\n",
              "      <th>Output</th>\n",
              "    </tr>\n",
              "  </thead>\n",
              "  <tbody>\n",
              "    <tr>\n",
              "      <th>0</th>\n",
              "      <td>16</td>\n",
              "      <td>4</td>\n",
              "      <td>3.0</td>\n",
              "      <td>5.0</td>\n",
              "      <td>10.0</td>\n",
              "      <td>8.0</td>\n",
              "      <td>6.0</td>\n",
              "      <td>8.0</td>\n",
              "      <td>13.0</td>\n",
              "      <td>20.0</td>\n",
              "      <td>21.0</td>\n",
              "      <td>NaN</td>\n",
              "      <td>NaN</td>\n",
              "      <td>NaN</td>\n",
              "      <td>NaN</td>\n",
              "      <td>NaN</td>\n",
              "      <td>NaN</td>\n",
              "      <td>NaN</td>\n",
              "      <td>NaN</td>\n",
              "      <td>NaN</td>\n",
              "      <td>NaN</td>\n",
              "    </tr>\n",
              "    <tr>\n",
              "      <th>1</th>\n",
              "      <td>2</td>\n",
              "      <td>1</td>\n",
              "      <td>9.0</td>\n",
              "      <td>10.0</td>\n",
              "      <td>1.0</td>\n",
              "      <td>4.0</td>\n",
              "      <td>3.0</td>\n",
              "      <td>21.0</td>\n",
              "      <td>NaN</td>\n",
              "      <td>NaN</td>\n",
              "      <td>NaN</td>\n",
              "      <td>NaN</td>\n",
              "      <td>NaN</td>\n",
              "      <td>NaN</td>\n",
              "      <td>NaN</td>\n",
              "      <td>NaN</td>\n",
              "      <td>NaN</td>\n",
              "      <td>NaN</td>\n",
              "      <td>NaN</td>\n",
              "      <td>NaN</td>\n",
              "      <td>NaN</td>\n",
              "    </tr>\n",
              "    <tr>\n",
              "      <th>2</th>\n",
              "      <td>9</td>\n",
              "      <td>13</td>\n",
              "      <td>20.0</td>\n",
              "      <td>16.0</td>\n",
              "      <td>15.0</td>\n",
              "      <td>21.0</td>\n",
              "      <td>NaN</td>\n",
              "      <td>NaN</td>\n",
              "      <td>NaN</td>\n",
              "      <td>NaN</td>\n",
              "      <td>NaN</td>\n",
              "      <td>NaN</td>\n",
              "      <td>NaN</td>\n",
              "      <td>NaN</td>\n",
              "      <td>NaN</td>\n",
              "      <td>NaN</td>\n",
              "      <td>NaN</td>\n",
              "      <td>NaN</td>\n",
              "      <td>NaN</td>\n",
              "      <td>NaN</td>\n",
              "      <td>NaN</td>\n",
              "    </tr>\n",
              "    <tr>\n",
              "      <th>3</th>\n",
              "      <td>8</td>\n",
              "      <td>15</td>\n",
              "      <td>20.0</td>\n",
              "      <td>21.0</td>\n",
              "      <td>NaN</td>\n",
              "      <td>NaN</td>\n",
              "      <td>NaN</td>\n",
              "      <td>NaN</td>\n",
              "      <td>NaN</td>\n",
              "      <td>NaN</td>\n",
              "      <td>NaN</td>\n",
              "      <td>NaN</td>\n",
              "      <td>NaN</td>\n",
              "      <td>NaN</td>\n",
              "      <td>NaN</td>\n",
              "      <td>NaN</td>\n",
              "      <td>NaN</td>\n",
              "      <td>NaN</td>\n",
              "      <td>NaN</td>\n",
              "      <td>NaN</td>\n",
              "      <td>NaN</td>\n",
              "    </tr>\n",
              "    <tr>\n",
              "      <th>4</th>\n",
              "      <td>16</td>\n",
              "      <td>9</td>\n",
              "      <td>13.0</td>\n",
              "      <td>20.0</td>\n",
              "      <td>21.0</td>\n",
              "      <td>NaN</td>\n",
              "      <td>NaN</td>\n",
              "      <td>NaN</td>\n",
              "      <td>NaN</td>\n",
              "      <td>NaN</td>\n",
              "      <td>NaN</td>\n",
              "      <td>NaN</td>\n",
              "      <td>NaN</td>\n",
              "      <td>NaN</td>\n",
              "      <td>NaN</td>\n",
              "      <td>NaN</td>\n",
              "      <td>NaN</td>\n",
              "      <td>NaN</td>\n",
              "      <td>NaN</td>\n",
              "      <td>NaN</td>\n",
              "      <td>NaN</td>\n",
              "    </tr>\n",
              "  </tbody>\n",
              "</table>\n",
              "</div>"
            ],
            "text/plain": [
              "   R05A.01  R05A.02  R05A.03  R05A.04  ...  R05A.18  R05A.19  R05A.20  Output\n",
              "0       16        4      3.0      5.0  ...      NaN      NaN      NaN     NaN\n",
              "1        2        1      9.0     10.0  ...      NaN      NaN      NaN     NaN\n",
              "2        9       13     20.0     16.0  ...      NaN      NaN      NaN     NaN\n",
              "3        8       15     20.0     21.0  ...      NaN      NaN      NaN     NaN\n",
              "4       16        9     13.0     20.0  ...      NaN      NaN      NaN     NaN\n",
              "\n",
              "[5 rows x 21 columns]"
            ]
          },
          "metadata": {
            "tags": []
          },
          "execution_count": 10
        }
      ]
    },
    {
      "cell_type": "markdown",
      "metadata": {
        "id": "O0jjLz9mZQBT",
        "colab_type": "text"
      },
      "source": [
        "The dataset is structured by having engagement activities as columns and the rows being the channels that were engaged with, in chronological order. In this case, each marketing channel is assigned a fixed numbered value which is then displayed in a column n if the n’th engagement from a given user was with that marketing channel. Channel 21 is a conversion and our dataset only contains records of converting user journeys."
      ]
    },
    {
      "cell_type": "code",
      "metadata": {
        "id": "iKbBN0DZZhcQ",
        "colab_type": "code",
        "colab": {}
      },
      "source": [
        "###Cleaning up\n",
        "# Grab list of columns to iterate through\n",
        "cols = df.columns\n",
        "\n",
        "# Iterate through columns to change all ints to str and remove any trailing '.0'\n",
        "for col in cols:\n",
        "    df[col] = df[col].astype(str)\n",
        "    df[col] = df[col].map(lambda x: str(x)[:-2] if '.' in x else str(x))"
      ],
      "execution_count": 0,
      "outputs": []
    },
    {
      "cell_type": "markdown",
      "metadata": {
        "id": "SlDQ0mjWZ2Yh",
        "colab_type": "text"
      },
      "source": [
        "The Markov chain framework wants the user journeys in a single variable and on the form Channel 1 > Channel 2 > Channel 3 > …, so the next loop creates exactly that"
      ]
    },
    {
      "cell_type": "code",
      "metadata": {
        "id": "YusHnSYNZ6PN",
        "colab_type": "code",
        "colab": {
          "base_uri": "https://localhost:8080/",
          "height": 122
        },
        "outputId": "bc4df47f-f83c-45e8-d819-27b756f5b4a7"
      },
      "source": [
        "# Create a total path variable\n",
        "df['Path'] = ''\n",
        "for i in df.index:\n",
        "    #df.at[i, 'Path'] = 'Start'\n",
        "    for x in cols:\n",
        "        df.at[i, 'Path'] = df.at[i, 'Path'] + df.at[i, x] + ' > '\n",
        "\n",
        "#Let's see how it looks\n",
        "df['Path'].head() "
      ],
      "execution_count": 13,
      "outputs": [
        {
          "output_type": "execute_result",
          "data": {
            "text/plain": [
              "0    16 > 4 > 3 > 5 > 10 > 8 > 6 > 8 > 13 > 20 > 21...\n",
              "1    2 > 1 > 9 > 10 > 1 > 4 > 3 > 21 > nan > nan > ...\n",
              "2    9 > 13 > 20 > 16 > 15 > 21 > nan > nan > nan >...\n",
              "3    8 > 15 > 20 > 21 > nan > nan > nan > nan > nan...\n",
              "4    16 > 9 > 13 > 20 > 21 > nan > nan > nan > nan ...\n",
              "Name: Path, dtype: object"
            ]
          },
          "metadata": {
            "tags": []
          },
          "execution_count": 13
        }
      ]
    },
    {
      "cell_type": "markdown",
      "metadata": {
        "id": "xa_m0_53aYn2",
        "colab_type": "text"
      },
      "source": [
        "This path represents the entire journey of the customer across multiple channels until conversion. These represent various states in our Markov chain."
      ]
    },
    {
      "cell_type": "code",
      "metadata": {
        "id": "YZM9EsICajg-",
        "colab_type": "code",
        "colab": {}
      },
      "source": [
        ""
      ],
      "execution_count": 0,
      "outputs": []
    },
    {
      "cell_type": "markdown",
      "metadata": {
        "id": "YrD-pq3P195-",
        "colab_type": "text"
      },
      "source": [
        "## Individual Channel Probability\n",
        "\n",
        "<img src=\"https://storage.googleapis.com/pats-test/images/channel_probability.jpg\">  \n",
        "\n",
        "    P(y|xi) = positives / positives + negatives = conversions / users = channel conversion rate  \n"
      ]
    },
    {
      "cell_type": "code",
      "metadata": {
        "id": "EgwqXCQ3tgM5",
        "colab_type": "code",
        "colab": {}
      },
      "source": [
        "channel_metrics_map = {}  \n",
        "\n",
        "for user in ga_data.to_records(): \n",
        "    \n",
        "    for channel in user[\"channels\"]:\n",
        "        \n",
        "        if not channel in channel_metrics_map:\n",
        "            channel_metrics_map[channel] = { \"conversions\": 0.0, \"users\": 0.0 }\n",
        "            \n",
        "        channel_metrics_map[channel][\"conversions\"] += float(user[\"converted\"])\n",
        "        channel_metrics_map[channel][\"users\"] += 1.0 \n",
        "\n",
        "pd.DataFrame(channel_metrics_map).transpose().sort_values(by='conversions',ascending=False)"
      ],
      "execution_count": 0,
      "outputs": []
    },
    {
      "cell_type": "markdown",
      "metadata": {
        "id": "_fqLU-7Y2Dl_",
        "colab_type": "text"
      },
      "source": [
        "## Pairwise Channel Probabilities\n",
        "\n",
        "<img src=\"https://storage.googleapis.com/pats-test/images/pairwise_probability.png\">"
      ]
    },
    {
      "cell_type": "code",
      "metadata": {
        "id": "0fSPMKRfxGE8",
        "colab_type": "code",
        "colab": {}
      },
      "source": [
        "channel_metrics = channel_metrics_map.copy()\n",
        "\n",
        "for xi,xj in itertools.combinations(channel_metrics.keys(), 2):\n",
        "    \n",
        "    key = \"{}|{}\".format(xi, xj)\n",
        "    \n",
        "    for user in ga_data.loc[ga_data.channels.map(lambda c: ((xi in c) & (xj in c))) == True].to_records():\n",
        "         \n",
        "        if not key in channel_metrics: \n",
        "            channel_metrics[key] = { \"conversions\": 0.0, \"users\": 0.0 }\n",
        "\n",
        "        channel_metrics[key][\"conversions\"] += float(user[3]) \n",
        "        channel_metrics[key][\"users\"] += 1.0 \n",
        "\n",
        "pd.DataFrame(channel_metrics).transpose().sort_values(by='conversions', ascending=False) \\\n",
        "    .reset_index().rename(columns={'index':'channels'})[:10]"
      ],
      "execution_count": 0,
      "outputs": []
    },
    {
      "cell_type": "markdown",
      "metadata": {
        "id": "_k6lMU9_4ESh",
        "colab_type": "text"
      },
      "source": [
        "### Add calculated field: `Conversion Rate`"
      ]
    },
    {
      "cell_type": "code",
      "metadata": {
        "id": "UJ0zTqUhySNJ",
        "colab_type": "code",
        "colab": {}
      },
      "source": [
        "for key in channel_metrics:\n",
        "    channel_metrics[key][\"conversion rate\"] = np.divide(\n",
        "        channel_metrics[key][\"conversions\"] , \n",
        "        channel_metrics[key][\"users\"]\n",
        "    )\n",
        "\n",
        "pd.DataFrame(channel_metrics).transpose().sort_values(by='conversions', ascending=False) \\\n",
        "    .reset_index().rename(columns={'index':'channels'})[:5]"
      ],
      "execution_count": 0,
      "outputs": []
    },
    {
      "cell_type": "markdown",
      "metadata": {
        "id": "u_ueLjzj4JL7",
        "colab_type": "text"
      },
      "source": [
        "## Simple Multi-Touch Probabilistic Model\n",
        "<img src=\"https://storage.googleapis.com/pats-test/images/model.png\">"
      ]
    },
    {
      "cell_type": "code",
      "metadata": {
        "id": "UCTMXO8Vz0E9",
        "colab_type": "code",
        "colab": {}
      },
      "source": [
        "channels = [ c for c in channel_metrics.keys() if not \"|\" in c ]\n",
        "channel_contrib = {} \n",
        "\n",
        "for channel in channels:\n",
        "    \n",
        "    p_xi = channel_metrics[channel][\"conversion rate\"]\n",
        "    \n",
        "    combinations = [ c for c in channel_metrics.keys() if channel in c and \"|\" in c ] \n",
        "    n = np.divide(1.0 , float(2 * len(combinations)))\n",
        "    \n",
        "    sum_part = []\n",
        "    \n",
        "    for combination in combinations:\n",
        "        \n",
        "        xi_xj = channel_metrics[combination][\"conversion rate\"]\n",
        "                                             \n",
        "        xi = channel_metrics[ combination.split(\"|\")[0] ][\"conversion rate\"]\n",
        "        xj = channel_metrics[ combination.split(\"|\")[1] ][\"conversion rate\"]\n",
        "                                             \n",
        "        sum_part.append(xi_xj - xi - xj)\n",
        "    \n",
        "    s = np.sum(sum_part)\n",
        "    channel_contrib[channel] = p_xi + n * (s if s > 0 else 0)\n",
        "\n",
        "pd.DataFrame([channel_contrib]).transpose()"
      ],
      "execution_count": 0,
      "outputs": []
    },
    {
      "cell_type": "markdown",
      "metadata": {
        "id": "JYb-_gqy4QQR",
        "colab_type": "text"
      },
      "source": [
        "### Covert to `% of Total`, column sums to 1"
      ]
    },
    {
      "cell_type": "code",
      "metadata": {
        "id": "YxgG9gzu4Q6d",
        "colab_type": "code",
        "colab": {}
      },
      "source": [
        "c_sum = np.sum([ channel_contrib[ch] for ch in channel_contrib.keys() ])\n",
        "for key in channel_contrib.keys():\n",
        "    channel_contrib[key] /= c_sum\n",
        "    \n",
        "results = pd.DataFrame(channel_contrib.items())\n",
        "results.columns=['channel','contribution']\n",
        "print \"The contribution column sums to {}\".format(sum(results[\"contribution\"]))\n",
        "results.sort_values(by='contribution',ascending=False).reset_index(drop=True)"
      ],
      "execution_count": 0,
      "outputs": []
    },
    {
      "cell_type": "markdown",
      "metadata": {
        "id": "CUzq71g94Xg7",
        "colab_type": "text"
      },
      "source": [
        "### Add context by creating weighted fields"
      ]
    },
    {
      "cell_type": "code",
      "metadata": {
        "id": "st5R-ugD4VA3",
        "colab_type": "code",
        "colab": {}
      },
      "source": [
        "results[\"conversions\"] = results.channel.map(lambda x: channel_metrics[x][\"conversions\"])\n",
        "\n",
        "results[\"score\"] = results[\"conversions\"] * results[\"contribution\"]\n",
        "\n",
        "results['importance'] = np.divide(\n",
        "    results['score']-results['score'].min() , \n",
        "    results['score'].max()-results['score'].min()\n",
        ")\n",
        "\n",
        "results = results.sort_values('importance',ascending=False).fillna(0).reset_index(drop=True)\n",
        "results"
      ],
      "execution_count": 0,
      "outputs": []
    },
    {
      "cell_type": "markdown",
      "metadata": {
        "id": "JvSvlYWV4eKc",
        "colab_type": "text"
      },
      "source": [
        "## Visualize the data  "
      ]
    },
    {
      "cell_type": "code",
      "metadata": {
        "id": "7tV3Kzlh4Y_J",
        "colab_type": "code",
        "colab": {}
      },
      "source": [
        "fig, ax = plt.subplots()\n",
        "cmap = plt.cm.get_cmap('tab20')\n",
        "for i,row in results.iterrows():\n",
        "  ax.scatter(\"contribution\", \"conversions\",label=row.channel,\n",
        "             s=row.importance*500, c=cmap(i), data=row)\n",
        "plt.xlabel(\"Contribution Score\")\n",
        "plt.ylabel(\"Conversions\")\n",
        "plt.title(\"Contribution Score by Conversions per Channel\")\n",
        "plt.legend(loc=0)\n",
        "plt.show()"
      ],
      "execution_count": 0,
      "outputs": []
    },
    {
      "cell_type": "markdown",
      "metadata": {
        "id": "c44LGjiqt_Wy",
        "colab_type": "text"
      },
      "source": [
        "<h3>Contribution Score over 12 weeks (example):</h3>"
      ]
    },
    {
      "cell_type": "code",
      "metadata": {
        "id": "jqNvxa1HtyQU",
        "colab_type": "code",
        "colab": {}
      },
      "source": [
        "from IPython.display import YouTubeVideo\n",
        "YouTubeVideo(\"OBZILfAf4xQ\",width=768, height=432)"
      ],
      "execution_count": 0,
      "outputs": []
    }
  ]
}