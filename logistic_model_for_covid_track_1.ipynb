{
  "nbformat": 4,
  "nbformat_minor": 0,
  "metadata": {
    "colab": {
      "name": "logistic_model_for_covid_track_1.ipynb",
      "provenance": [],
      "collapsed_sections": [],
      "include_colab_link": true
    },
    "kernelspec": {
      "name": "python3",
      "display_name": "Python 3"
    }
  },
  "cells": [
    {
      "cell_type": "markdown",
      "metadata": {
        "id": "view-in-github",
        "colab_type": "text"
      },
      "source": [
        "<a href=\"https://colab.research.google.com/github/Akshaypakhle10/ML/blob/master/logistic_model_for_covid_track_1.ipynb\" target=\"_parent\"><img src=\"https://colab.research.google.com/assets/colab-badge.svg\" alt=\"Open In Colab\"/></a>"
      ]
    },
    {
      "cell_type": "code",
      "metadata": {
        "id": "UwRNagGYezJ_",
        "colab_type": "code",
        "colab": {}
      },
      "source": [
        "import numpy as np\n",
        "import pandas as pd\n",
        "import scipy.optimize as opt\n",
        "import matplotlib.pyplot as plt"
      ],
      "execution_count": 0,
      "outputs": []
    },
    {
      "cell_type": "code",
      "metadata": {
        "id": "wL0LSM-_e-75",
        "colab_type": "code",
        "colab": {}
      },
      "source": [
        "url = 'https://raw.githubusercontent.com/CSSEGISandData/COVID-19/master/csse_covid_19_data/csse_covid_19_time_series/time_series_covid19_confirmed_global.csv'\n",
        "df_ = pd.read_csv(url)\n",
        "df = df_.drop(['Lat','Long'],axis=1).set_index(['Country/Region','Province/State']).T"
      ],
      "execution_count": 0,
      "outputs": []
    },
    {
      "cell_type": "code",
      "metadata": {
        "id": "JJiivAyQfDIN",
        "colab_type": "code",
        "colab": {}
      },
      "source": [
        "def preprocess(country,province):\n",
        "    y = np.array(df[country][province])\n",
        "    y = y.astype(np.float32)\n",
        "    x = np.array(range(len(y)))\n",
        "    return x,y\n",
        "\n",
        "def process_country(country):\n",
        "    val_error_dict = dict()\n",
        "    curves_dict = dict()\n",
        "    keys = []\n",
        "    for province in df[country].columns:\n",
        "        keys.append(province)\n",
        "        x,y = preprocess(country,province)\n",
        "        (a,b,peak),val_error = optimal_logistic(x,y)\n",
        "        f = lambda x_: logistic(x_,a,b,peak)\n",
        "        val_error_dict[province] = val_error\n",
        "        curves_dict[province] = f\n",
        "    return val_error_dict,curves_dict,keys\n",
        "\n",
        "def predict(country,province):\n",
        "    x,y = preprocess(country,province)\n",
        "    (a,b,peak),val_error = optimal_logistic(x,y)\n",
        "    f = lambda x_: logistic(x_,a,b,peak)\n",
        "    return f(x[-1]),val_error"
      ],
      "execution_count": 0,
      "outputs": []
    },
    {
      "cell_type": "code",
      "metadata": {
        "id": "dZRJYkcrfN3j",
        "colab_type": "code",
        "colab": {}
      },
      "source": [
        "#Luke Beasley's get_inflection() function\n",
        "\n",
        "\n",
        "def before_sign(x):\n",
        "    if x <0:\n",
        "        return -1\n",
        "    if x>0:\n",
        "        return 1\n",
        "    else:\n",
        "        return 0\n",
        "def after_sign(x):\n",
        "    if x >0:\n",
        "        return -1\n",
        "    if x<0:\n",
        "        return 1\n",
        "    else:\n",
        "        return 0\n",
        "\n",
        "before_vect = np.vectorize(before_sign)\n",
        "after_vect = np.vectorize(after_sign)\n",
        "\n",
        "\n",
        "\n",
        "\n",
        "def get_inflection(case_der, window_size = 20):\n",
        "    inflection_point = 0\n",
        "    max_val = 0\n",
        "    for idx, val in enumerate(case_der):\n",
        "        if idx ==0:\n",
        "            continue\n",
        "        if idx == len(case_der)-1:\n",
        "            continue\n",
        "        if idx <window_size:\n",
        "            if np.sum(before_vect(case_der[0:idx])) + np.sum(after_vect(case_der[idx+1:idx+1+window_size]))> max_val:\n",
        "                inflection_point = idx\n",
        "                max_val = np.sum(before_vect(case_der[0:idx])) + np.sum(after_vect(case_der[idx+1:idx+1+window_size]))\n",
        "        if idx >= window_size and idx < len(case_der)-window_size:\n",
        "            if np.sum(before_vect(case_der[idx-window_size:idx])) + np.sum(after_vect(case_der[idx+1:idx+1+window_size]))> max_val:\n",
        "                inflection_point = idx\n",
        "                max_val = np.sum(before_vect(case_der[idx-window_size:idx])) + np.sum(after_vect(case_der[idx+1:idx+1+window_size]))\n",
        "        if idx >=window_size and idx >= len(case_der)-window_size:\n",
        "            if np.sum(before_vect(case_der[idx-window_size:idx])) + np.sum(after_vect(case_der[idx+1:]))> max_val:\n",
        "                inflection_point = idx\n",
        "                max_val = np.sum(before_vect(case_der[idx-window_size:idx])) + np.sum(after_vect(case_der[idx+1:]))\n",
        "    return inflection_point"
      ],
      "execution_count": 0,
      "outputs": []
    },
    {
      "cell_type": "code",
      "metadata": {
        "id": "pBsnGeNXfSHO",
        "colab_type": "code",
        "colab": {}
      },
      "source": [
        "def logistic(x, a, b,c):\n",
        "    return a / (1. + np.exp(-1.0/b * (x - c)))\n",
        "\n",
        "def get_peak(y):\n",
        "    inf = get_inflection(np.diff(y,2))\n",
        "    return list(range(inf-15,inf+15))\n",
        "    #return [75,76,77,78,79,80,81,82,83]\n",
        "\n",
        "def optimal_logistic(x,y):\n",
        "    y_train = y[:-7]\n",
        "    x_train = x[:-7]\n",
        "    min_error,opt_p = float('inf'),[0,0,0]\n",
        "    try:\n",
        "      p0,_ = opt.curve_fit(logistic,x_train,y_train) #initial values to try\n",
        "    except:\n",
        "      try:\n",
        "          p0,_ = opt.curve_fit(logistic,x,y) #initial values to try\n",
        "      except:\n",
        "          p0 = (1000,7,80)\n",
        "    peaks = get_peak(y_train) #candidate times for peak infection rate\n",
        "    for peak in peaks:\n",
        "        fixed_peak_logistic = lambda x_,a,b: logistic(x_,a,b,peak)\n",
        "        (a,b),_ = opt.curve_fit(fixed_peak_logistic,x_train,y_train,p0=[p0[0],p0[1]])\n",
        "        opt_logistic = lambda x_: logistic(x_,a,b,peak)\n",
        "        error = abs(opt_logistic(x_train[-1])-y_train[-1])/y_train[-1] \n",
        "        if error < min_error:\n",
        "            min_error,opt_p = error,[a,b,peak]\n",
        "    val_error = abs(logistic(x[-1],*opt_p)-y[-1])/y[-1] #error on the last available day from validation set\n",
        "    return opt_p,val_error\n",
        "            "
      ],
      "execution_count": 0,
      "outputs": []
    },
    {
      "cell_type": "code",
      "metadata": {
        "id": "GhixlB94fgRS",
        "colab_type": "code",
        "outputId": "9d75f2b0-51b8-4166-9b80-dfb6e2ddcc99",
        "colab": {
          "base_uri": "https://localhost:8080/",
          "height": 195
        }
      },
      "source": [
        "#example use:\n",
        "\n",
        "val_dict,pred_dict,provinces = process_country('Australia')\n",
        "val_dict"
      ],
      "execution_count": 0,
      "outputs": [
        {
          "output_type": "stream",
          "text": [
            "/usr/local/lib/python3.6/dist-packages/scipy/optimize/minpack.py:808: OptimizeWarning: Covariance of the parameters could not be estimated\n",
            "  category=OptimizeWarning)\n"
          ],
          "name": "stderr"
        },
        {
          "output_type": "execute_result",
          "data": {
            "text/plain": [
              "{'Australian Capital Territory': 0.7606216447689261,\n",
              " 'New South Wales': 0.0004897599958189368,\n",
              " 'Northern Territory': 0.005811091225093331,\n",
              " 'Queensland': 0.0010680507951041519,\n",
              " 'South Australia': 0.017609944229545756,\n",
              " 'Tasmania': 0.8675991451928229,\n",
              " 'Victoria': 0.00956140171303077,\n",
              " 'Western Australia': 0.02593814246635857}"
            ]
          },
          "metadata": {
            "tags": []
          },
          "execution_count": 91
        }
      ]
    },
    {
      "cell_type": "code",
      "metadata": {
        "id": "RGu60F6qh0Oh",
        "colab_type": "code",
        "outputId": "34edffb6-e09c-49c4-f1d2-78c84ef90332",
        "colab": {
          "base_uri": "https://localhost:8080/",
          "height": 265
        }
      },
      "source": [
        "for province in provinces:\n",
        "  plt.plot([pred_dict[province](x) for x in range(90)])"
      ],
      "execution_count": 0,
      "outputs": [
        {
          "output_type": "display_data",
          "data": {
            "image/png": "[encoded data removed]",
            "text/plain": [
              "<Figure size 432x288 with 1 Axes>"
            ]
          },
          "metadata": {
            "tags": [],
            "needs_background": "light"
          }
        }
      ]
    },
    {
      "cell_type": "code",
      "metadata": {
        "id": "3YMDO8FTnMMw",
        "colab_type": "code",
        "outputId": "c02194e8-a982-4267-ba9c-1be725dddc54",
        "colab": {
          "base_uri": "https://localhost:8080/",
          "height": 106
        }
      },
      "source": [
        "preds = {}\n",
        "val_errors = {}\n",
        "for (country,province) in df.columns:\n",
        "    if province == 'Recovered':\n",
        "      continue\n",
        "    pred,error = predict(country,province)\n",
        "    preds[(country,province)] = pred\n",
        "    val_errors[(country,province)] = error"
      ],
      "execution_count": 0,
      "outputs": [
        {
          "output_type": "stream",
          "text": [
            "/usr/local/lib/python3.6/dist-packages/scipy/optimize/minpack.py:808: OptimizeWarning: Covariance of the parameters could not be estimated\n",
            "  category=OptimizeWarning)\n",
            "/usr/local/lib/python3.6/dist-packages/ipykernel_launcher.py:2: RuntimeWarning: overflow encountered in exp\n",
            "  \n",
            "/usr/local/lib/python3.6/dist-packages/ipykernel_launcher.py:28: RuntimeWarning: divide by zero encountered in double_scalars\n"
          ],
          "name": "stderr"
        }
      ]
    },
    {
      "cell_type": "code",
      "metadata": {
        "id": "AZYpvD1oxDoo",
        "colab_type": "code",
        "outputId": "773c1618-067a-4d3f-e371-0f544bccf018",
        "colab": {
          "base_uri": "https://localhost:8080/",
          "height": 35
        }
      },
      "source": [
        "total = sum([preds[x] for x in preds])\n",
        "total"
      ],
      "execution_count": 0,
      "outputs": [
        {
          "output_type": "execute_result",
          "data": {
            "text/plain": [
              "2276421.937166573"
            ]
          },
          "metadata": {
            "tags": []
          },
          "execution_count": 67
        }
      ]
    },
    {
      "cell_type": "code",
      "metadata": {
        "id": "kKr6EypMyHIB",
        "colab_type": "code",
        "colab": {}
      },
      "source": [
        "s = sorted(val_errors,key=lambda x:-val_errors[x])\n",
        "sorted_val_errors = [(region,val_errors[region]) for region in s]"
      ],
      "execution_count": 0,
      "outputs": []
    },
    {
      "cell_type": "code",
      "metadata": {
        "id": "yY6PJoRS0uJB",
        "colab_type": "code",
        "outputId": "6b6fb429-2134-4e32-81a6-53fc1dc426df",
        "colab": {
          "base_uri": "https://localhost:8080/",
          "height": 1000
        }
      },
      "source": [
        "sorted_val_errors"
      ],
      "execution_count": 0,
      "outputs": [
        {
          "output_type": "execute_result",
          "data": {
            "text/plain": [
              "[(('Canada', 'Diamond Princess'), inf),\n",
              " (('Sao Tome and Principe', nan), 1.0000000000021814),\n",
              " (('Bangladesh', nan), 0.9781803123455709),\n",
              " (('Djibouti', nan), 0.964102079184423),\n",
              " (('Guinea', nan), 0.9547159111895858),\n",
              " (('Nigeria', nan), 0.9356849909294688),\n",
              " (('Jamaica', nan), 0.9326305308333548),\n",
              " (('Ghana', nan), 0.9275321418502611),\n",
              " (('Bolivia', nan), 0.9245095758817946),\n",
              " ((\"Cote d'Ivoire\", nan), 0.9100574431730464),\n",
              " (('Kyrgyzstan', nan), 0.9077322799775477),\n",
              " (('Canada', 'Nova Scotia'), 0.906414329788729),\n",
              " (('Kosovo', nan), 0.9040355663580947),\n",
              " (('Singapore', nan), 0.9020840163721872),\n",
              " (('Niger', nan), 0.900408968080743),\n",
              " (('Kenya', nan), 0.8872093016972247),\n",
              " (('Congo (Kinshasa)', nan), 0.8859724870854334),\n",
              " (('France', 'Mayotte'), 0.883506918913314),\n",
              " (('United Kingdom', 'Isle of Man'), 0.8802742206864939),\n",
              " (('Georgia', nan), 0.8693844041452791),\n",
              " (('Australia', 'Tasmania'), 0.8675991451928229),\n",
              " (('Senegal', nan), 0.8665825115349673),\n",
              " (('West Bank and Gaza', nan), 0.8660852702135217),\n",
              " (('Honduras', nan), 0.8646771515114126),\n",
              " (('Paraguay', nan), 0.8639589467020928),\n",
              " (('United Kingdom', 'Channel Islands'), 0.856447796265876),\n",
              " (('Sri Lanka', nan), 0.8556306869332037),\n",
              " (('Venezuela', nan), 0.8494728176499015),\n",
              " (('Albania', nan), 0.8494510499619636),\n",
              " (('Burkina Faso', nan), 0.8380776188347371),\n",
              " (('Montenegro', nan), 0.8355166318436167),\n",
              " (('Tanzania', nan), 0.8286743440553791),\n",
              " (('Malta', nan), 0.8278285856625838),\n",
              " (('Oman', nan), 0.8249754810348472),\n",
              " (('Canada', 'Manitoba'), 0.8214983120972829),\n",
              " (('Rwanda', nan), 0.8211265464546925),\n",
              " (('Mauritius', nan), 0.8195742274210226),\n",
              " (('Canada', 'Saskatchewan'), 0.8109674683120214),\n",
              " (('San Marino', nan), 0.8038109817760601),\n",
              " (('United Kingdom', 'Gibraltar'), 0.7981290427083098),\n",
              " (('Canada', 'Newfoundland and Labrador'), 0.7978288509744441),\n",
              " (('France', 'Reunion'), 0.7929837421349395),\n",
              " (('Canada', 'New Brunswick'), 0.7881355922948122),\n",
              " (('Timor-Leste', nan), 0.7880345486781902),\n",
              " (('Jordan', nan), 0.7833803403252809),\n",
              " (('Cabo Verde', nan), 0.765062729575816),\n",
              " (('Maldives', nan), 0.7644511809512038),\n",
              " (('France', 'Martinique'), 0.7616279060115172),\n",
              " (('Australia', 'Australian Capital Territory'), 0.7606216447689261),\n",
              " (('Peru', nan), 0.7562105158940465),\n",
              " (('Trinidad and Tobago', nan), 0.7510616769145543),\n",
              " (('France', 'Guadeloupe'), 0.7461502194926413),\n",
              " (('Sudan', nan), 0.7440910174058327),\n",
              " (('Japan', nan), 0.7231811636950936),\n",
              " (('Liechtenstein', nan), 0.7229399923312134),\n",
              " (('Congo (Brazzaville)', nan), 0.7126503259340407),\n",
              " (('Denmark', 'Faroe Islands'), 0.7052605393033419),\n",
              " (('Cambodia', nan), 0.7012962244434475),\n",
              " (('Vietnam', nan), 0.6988024973814209),\n",
              " (('Equatorial Guinea', nan), 0.6941076866211604),\n",
              " (('Haiti', nan), 0.6928554105117689),\n",
              " (('Saudi Arabia', nan), 0.6887698290175155),\n",
              " (('Brunei', nan), 0.6757667672190186),\n",
              " (('Papua New Guinea', nan), 0.6569488587828589),\n",
              " (('Botswana', nan), 0.643687975291182),\n",
              " (('Indonesia', nan), 0.625446186539444),\n",
              " (('Nepal', nan), 0.6242343905426377),\n",
              " (('Afghanistan', nan), 0.6157076651890634),\n",
              " (('Guatemala', nan), 0.6078292432838415),\n",
              " (('China', 'Inner Mongolia'), 0.6030328456473137),\n",
              " (('Chile', nan), 0.5619810633661563),\n",
              " (('Croatia', nan), 0.5477884012387877),\n",
              " (('Sierra Leone', nan), 0.5464282527642308),\n",
              " (('Brazil', nan), 0.5297416192292962),\n",
              " (('France', nan), 0.5198029864309175),\n",
              " (('Burundi', nan), 0.5164348092660372),\n",
              " (('Somalia', nan), 0.5121951219090529),\n",
              " (('Canada', 'Quebec'), 0.49867234106638),\n",
              " (('Mongolia', nan), 0.49705796573740024),\n",
              " (('Malawi', nan), 0.4959381873582294),\n",
              " (('Slovakia', nan), 0.4887904789858078),\n",
              " (('India', nan), 0.4790906255480218),\n",
              " (('Mali', nan), 0.46294465097424675),\n",
              " (('Bahamas', nan), 0.46162376121979826),\n",
              " (('Libya', nan), 0.45500822550528425),\n",
              " (('Central African Republic', nan), 0.4473913764212365),\n",
              " (('Benin', nan), 0.44563895089023126),\n",
              " (('Pakistan', nan), 0.4285418444719382),\n",
              " (('Morocco', nan), 0.41604914377630825),\n",
              " (('Liberia', nan), 0.40898873568930294),\n",
              " (('United Kingdom', 'British Virgin Islands'), 0.4087198293092812),\n",
              " (('Eswatini', nan), 0.40494391193509033),\n",
              " (('Uganda', nan), 0.3915977072256817),\n",
              " (('Ecuador', nan), 0.3903210930864955),\n",
              " (('United Kingdom', 'Cayman Islands'), 0.3870983357452292),\n",
              " (('Canada', 'Alberta'), 0.3848963125162435),\n",
              " (('Netherlands', 'Bonaire, Sint Eustatius and Saba'), 0.3827441133612567),\n",
              " (('Zambia', nan), 0.3657259134260257),\n",
              " (('Bhutan', nan), 0.3589976528144638),\n",
              " (('Mozambique', nan), 0.3498101994424328),\n",
              " (('Greece', nan), 0.33838661032093875),\n",
              " (('Chad', nan), 0.32078955375251217),\n",
              " (('China', 'Heilongjiang'), 0.3167698293529023),\n",
              " (('Cameroon', nan), 0.2933228356962681),\n",
              " (('China', 'Gansu'), 0.2814957333242302),\n",
              " (('Mexico', nan), 0.28014058315795065),\n",
              " (('Ethiopia', nan), 0.271748329621585),\n",
              " (('China', 'Jilin'), 0.27110249756032223),\n",
              " (('Holy See', nan), 0.2703736396191425),\n",
              " (('Syria', nan), 0.2678397480546063),\n",
              " (('Ukraine', nan), 0.2519669292755506),\n",
              " (('Canada', 'Yukon'), 0.24904895574338906),\n",
              " (('Qatar', nan), 0.2473610599951525),\n",
              " (('Bulgaria', nan), 0.24539254485965345),\n",
              " (('China', 'Guangdong'), 0.2420952315502883),\n",
              " (('South Africa', nan), 0.2392794238281309),\n",
              " (('United Kingdom', 'Falkland Islands (Malvinas)'), 0.23910703993057267),\n",
              " (('Belarus', nan), 0.2388130255541161),\n",
              " (('Romania', nan), 0.2364338323813166),\n",
              " (('Bosnia and Herzegovina', nan), 0.23110114627915063),\n",
              " (('Poland', nan), 0.22340020832167812),\n",
              " (('Angola', nan), 0.22276167771532954),\n",
              " (('Bahrain', nan), 0.21059444609733885),\n",
              " (('South Sudan', nan), 0.20438803384676732),\n",
              " (('North Macedonia', nan), 0.2031421414469955),\n",
              " (('El Salvador', nan), 0.19328269494884115),\n",
              " (('Armenia', nan), 0.17809699164061552),\n",
              " (('Lithuania', nan), 0.17426624648833328),\n",
              " (('France', 'French Guiana'), 0.17388005585992583),\n",
              " (('Burma', nan), 0.17314229820638308),\n",
              " (('Colombia', nan), 0.16618996792578036),\n",
              " (('China', 'Zhejiang'), 0.1615710590269643),\n",
              " (('Netherlands', 'Sint Maarten'), 0.1615476895700387),\n",
              " (('United Kingdom', 'Bermuda'), 0.16097878218855677),\n",
              " (('Algeria', nan), 0.15714650281775033),\n",
              " (('Kuwait', nan), 0.1570012927929585),\n",
              " (('Zimbabwe', nan), 0.1555185270702594),\n",
              " (('Canada', 'British Columbia'), 0.15476969636777688),\n",
              " (('Panama', nan), 0.14994956155011868),\n",
              " (('Belize', nan), 0.149105049899134),\n",
              " (('Denmark', nan), 0.1476983112509476),\n",
              " (('Dominican Republic', nan), 0.14629108857311762),\n",
              " (('Uzbekistan', nan), 0.14487139437706065),\n",
              " (('China', 'Shanxi'), 0.1435399875084407),\n",
              " (('Serbia', nan), 0.13992387217270225),\n",
              " (('Canada', 'Ontario'), 0.13744445865024435),\n",
              " (('Gabon', nan), 0.1262690947190683),\n",
              " (('Cuba', nan), 0.11938438332522033),\n",
              " (('Argentina', nan), 0.11566409193824462),\n",
              " (('United Kingdom', 'Turks and Caicos Islands'), 0.11357964985031495),\n",
              " (('Hungary', nan), 0.11143549706874473),\n",
              " (('Slovenia', nan), 0.1113531066679075),\n",
              " (('United Kingdom', nan), 0.10965591927729408),\n",
              " (('China', 'Tianjin'), 0.105089617422688),\n",
              " (('Nicaragua', nan), 0.10401077805065496),\n",
              " (('Sweden', nan), 0.10027002084520621),\n",
              " (('US', nan), 0.0981385001917859),\n",
              " (('Saint Vincent and the Grenadines', nan), 0.0979312954878603),\n",
              " (('Latvia', nan), 0.09748505957322721),\n",
              " (('Philippines', nan), 0.09575653205771235),\n",
              " (('Finland', nan), 0.09241458200864834),\n",
              " (('Eritrea', nan), 0.09227610133243612),\n",
              " (('Ireland', nan), 0.08907088408854935),\n",
              " (('Guinea-Bissau', nan), 0.08783597456826214),\n",
              " (('Canada', 'Prince Edward Island'), 0.08737153008255606),\n",
              " (('Netherlands', nan), 0.08627312585072239),\n",
              " (('China', 'Shaanxi'), 0.08298199073978965),\n",
              " (('Turkey', nan), 0.08285922853995527),\n",
              " (('Grenada', nan), 0.07915125102601467),\n",
              " (('Kazakhstan', nan), 0.07443422071753368),\n",
              " (('Iraq', nan), 0.0731010741425378),\n",
              " (('Gambia', nan), 0.07017769808324523),\n",
              " (('Azerbaijan', nan), 0.06933383345581567),\n",
              " (('Taiwan*', nan), 0.0684715057055901),\n",
              " (('Portugal', nan), 0.0681864263262646),\n",
              " (('Saint Lucia', nan), 0.06572086991433974),\n",
              " (('Moldova', nan), 0.06507689658087656),\n",
              " (('Uruguay', nan), 0.06500669923083319),\n",
              " (('United Arab Emirates', nan), 0.06066352601545396),\n",
              " (('Belgium', nan), 0.060410903161866356),\n",
              " (('Spain', nan), 0.0601440728692292),\n",
              " (('United Kingdom', 'Montserrat'), 0.05780673709807713),\n",
              " (('France', 'St Martin'), 0.0553537082909318),\n",
              " (('Czechia', nan), 0.05498475119775371),\n",
              " (('Israel', nan), 0.05476491113389676),\n",
              " (('China', 'Macau'), 0.04953792017775006),\n",
              " (('Iceland', nan), 0.0488421021598298),\n",
              " (('Thailand', nan), 0.04725935886925001),\n",
              " (('Madagascar', nan), 0.044791317613429284),\n",
              " (('Tunisia', nan), 0.0445019515222291),\n",
              " (('Norway', nan), 0.04381141426623958),\n",
              " (('Italy', nan), 0.04228151684774611),\n",
              " (('Germany', nan), 0.03996195530036404),\n",
              " (('Luxembourg', nan), 0.039875353532661494),\n",
              " (('Egypt', nan), 0.039454828446977355),\n",
              " (('Netherlands', 'Aruba'), 0.03922482946554823),\n",
              " (('Laos', nan), 0.03887673164458524),\n",
              " (('Iran', nan), 0.03830112274508796),\n",
              " (('Barbados', nan), 0.036286438141626576),\n",
              " (('Western Sahara', nan), 0.03607253800773291),\n",
              " (('Yemen', nan), 0.03448275862068961),\n",
              " (('Andorra', nan), 0.03213284543183446),\n",
              " (('Togo', nan), 0.031364370921342394),\n",
              " (('Monaco', nan), 0.031260643691973296),\n",
              " (('China', 'Beijing'), 0.03032375236727521),\n",
              " (('Cyprus', nan), 0.0275351737414581),\n",
              " (('China', 'Hebei'), 0.02710197204979441),\n",
              " (('Antigua and Barbuda', nan), 0.027032398737974066),\n",
              " (('Australia', 'Western Australia'), 0.02593814246635857),\n",
              " (('Switzerland', nan), 0.02551513833365788),\n",
              " (('China', 'Liaoning'), 0.024397329700101042),\n",
              " (('Estonia', nan), 0.02272409956960254),\n",
              " (('New Zealand', nan), 0.022092521831810995),\n",
              " (('France', 'French Polynesia'), 0.020948373596132722),\n",
              " (('France', 'Saint Pierre and Miquelon'), 0.02040816326531414),\n",
              " (('Malaysia', nan), 0.018628746649765986),\n",
              " (('Fiji', nan), 0.018526808150325123),\n",
              " (('Seychelles', nan), 0.0176260351643457),\n",
              " (('Australia', 'South Australia'), 0.017609944229545756),\n",
              " (('Russia', nan), 0.016489885750389434),\n",
              " (('Dominica', nan), 0.01591752575103711),\n",
              " (('France', 'Saint Barthelemy'), 0.01331811988731794),\n",
              " (('Canada', 'Northwest Territories'), 0.013206706301557247),\n",
              " (('Austria', nan), 0.011037785223992047),\n",
              " (('Suriname', nan), 0.01100237414161569),\n",
              " (('China', 'Fujian'), 0.010645686428772734),\n",
              " (('Guyana', nan), 0.010546428141812215),\n",
              " (('China', 'Guizhou'), 0.009639428293247206),\n",
              " (('Australia', 'Victoria'), 0.00956140171303077),\n",
              " (('France', 'New Caledonia'), 0.009277683992764137),\n",
              " (('Saint Kitts and Nevis', nan), 0.008950848650234988),\n",
              " (('Namibia', nan), 0.008614393821786193),\n",
              " (('Netherlands', 'Curacao'), 0.006502480060183454),\n",
              " (('Lebanon', nan), 0.006344413760226142),\n",
              " (('China', 'Hong Kong'), 0.006107199268095595),\n",
              " (('Australia', 'Northern Territory'), 0.005811091225093331),\n",
              " (('China', 'Shanghai'), 0.0054192015417223365),\n",
              " (('Denmark', 'Greenland'), 0.005324011303465038),\n",
              " (('MS Zaandam', nan), 0.0045680576862536055),\n",
              " (('China', 'Sichuan'), 0.004487217808702834),\n",
              " (('China', 'Yunnan'), 0.003683138112873415),\n",
              " (('Diamond Princess', nan), 0.0029392280418363407),\n",
              " (('China', 'Hubei'), 0.002832405141457224),\n",
              " (('Korea, South', nan), 0.0026899714427863616),\n",
              " (('China', 'Guangxi'), 0.0023014797404891717),\n",
              " (('Mauritania', nan), 0.002261518076766476),\n",
              " (('China', 'Anhui'), 0.002223097421791933),\n",
              " (('China', 'Xinjiang'), 0.002156496589908691),\n",
              " (('China', 'Jiangxi'), 0.0012561686863561757),\n",
              " (('Australia', 'Queensland'), 0.0010680507951041519),\n",
              " (('China', 'Chongqing'), 0.000982018307836574),\n",
              " (('China', 'Ningxia'), 0.0009576006106169643),\n",
              " (('China', 'Jiangsu'), 0.0008667627357380149),\n",
              " (('Costa Rica', nan), 0.0008175641750564504),\n",
              " (('China', 'Tibet'), 0.0007145880468872878),\n",
              " (('United Kingdom', 'Anguilla'), 0.0006728092361663052),\n",
              " (('Australia', 'New South Wales'), 0.0004897599958189368),\n",
              " (('China', 'Shandong'), 0.0004039003008972587),\n",
              " (('China', 'Hainan'), 0.00021981490862797517),\n",
              " (('China', 'Hunan'), 0.00019349521869649715),\n",
              " (('China', 'Qinghai'), 0.00011713444015251342),\n",
              " (('China', 'Henan'), 0.0001057627870769611),\n",
              " (('Canada', 'Grand Princess'), -13.929375744973775)]"
            ]
          },
          "metadata": {
            "tags": []
          },
          "execution_count": 95
        }
      ]
    }
  ]
}