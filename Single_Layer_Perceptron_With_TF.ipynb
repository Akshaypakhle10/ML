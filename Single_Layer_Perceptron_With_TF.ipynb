{
  "nbformat": 4,
  "nbformat_minor": 0,
  "metadata": {
    "colab": {
      "name": "Single Layer Perceptron With TF",
      "provenance": [],
      "include_colab_link": true
    },
    "kernelspec": {
      "name": "python3",
      "display_name": "Python 3"
    }
  },
  "cells": [
    {
      "cell_type": "markdown",
      "metadata": {
        "id": "view-in-github",
        "colab_type": "text"
      },
      "source": [
        "<a href=\"https://colab.research.google.com/github/Akshaypakhle10/ML/blob/master/Single_Layer_Perceptron_With_TF.ipynb\" target=\"_parent\"><img src=\"https://colab.research.google.com/assets/colab-badge.svg\" alt=\"Open In Colab\"/></a>"
      ]
    },
    {
      "cell_type": "markdown",
      "metadata": {
        "id": "Co4NaaoLHkEr",
        "colab_type": "text"
      },
      "source": [
        "#TF basics"
      ]
    },
    {
      "cell_type": "markdown",
      "metadata": {
        "id": "rMOoq1ytIjlh",
        "colab_type": "text"
      },
      "source": [
        "Tensors - Multi Dimensional Arrays, Flow - Data Flow graph"
      ]
    },
    {
      "cell_type": "markdown",
      "metadata": {
        "id": "osXOuxEOJMbH",
        "colab_type": "text"
      },
      "source": [
        "Core programs : \n",
        "1. Build a Computational Graph of Nodes.\n",
        "2. Run the computational graph within a session."
      ]
    },
    {
      "cell_type": "code",
      "metadata": {
        "id": "zViAnNwVJNV8",
        "colab_type": "code",
        "outputId": "2f608531-4248-4ee1-866e-e2387acfade6",
        "colab": {
          "base_uri": "https://localhost:8080/",
          "height": 34
        }
      },
      "source": [
        "import tensorflow as tf\n",
        "\n",
        "node1 = tf.constant(2.0, tf.float32)\n",
        "node2 = tf.constant(4.0)\n",
        "#print(node1, node2)"
      ],
      "execution_count": 0,
      "outputs": [
        {
          "output_type": "stream",
          "text": [
            "Tensor(\"Const_1:0\", shape=(), dtype=float32) Tensor(\"Const_2:0\", shape=(), dtype=float32)\n"
          ],
          "name": "stdout"
        }
      ]
    },
    {
      "cell_type": "markdown",
      "metadata": {
        "id": "wVJqaK-cJ6nH",
        "colab_type": "text"
      },
      "source": [
        "To actually evaluate the nodes, we must run a session. A session encapsulates the control and state of the TF runtime"
      ]
    },
    {
      "cell_type": "code",
      "metadata": {
        "id": "XhCZTKRXKydQ",
        "colab_type": "code",
        "outputId": "a4f3cc70-59c7-4d77-ca41-1a18c5d45a3f",
        "colab": {
          "base_uri": "https://localhost:8080/",
          "height": 34
        }
      },
      "source": [
        "sess = tf.Session()\n",
        "print(sess.run([node1, node2]))"
      ],
      "execution_count": 0,
      "outputs": [
        {
          "output_type": "stream",
          "text": [
            "[2.0, 4.0]\n"
          ],
          "name": "stdout"
        }
      ]
    },
    {
      "cell_type": "markdown",
      "metadata": {
        "id": "pKMyuriALFMy",
        "colab_type": "text"
      },
      "source": [
        "It always produces a constant result, what if I want to change values?"
      ]
    },
    {
      "cell_type": "code",
      "metadata": {
        "id": "mGbdwA6pLX01",
        "colab_type": "code",
        "outputId": "f8d4fbfc-7a6e-464f-959b-aef2235b5bac",
        "colab": {
          "base_uri": "https://localhost:8080/",
          "height": 34
        }
      },
      "source": [
        "a = tf.constant(5)\n",
        "b = tf.constant(2)\n",
        "c = tf.constant(3)\n",
        "\n",
        "d = tf.multiply(a,b)\n",
        "e = tf.add(c,b)\n",
        "f = tf.subtract(d,e)\n",
        "sess = tf.Session()\n",
        "\n",
        "outs = sess.run(f)\n",
        "print(outs)"
      ],
      "execution_count": 0,
      "outputs": [
        {
          "output_type": "stream",
          "text": [
            "5\n"
          ],
          "name": "stdout"
        }
      ]
    },
    {
      "cell_type": "markdown",
      "metadata": {
        "id": "3D9KRvSJMGCg",
        "colab_type": "text"
      },
      "source": [
        "A graph can be parameterized to accept external ips as well\n",
        "A placeholder is a promsie to provide a value later."
      ]
    },
    {
      "cell_type": "code",
      "metadata": {
        "id": "eRqSyGEOMdKb",
        "colab_type": "code",
        "outputId": "6bd9f117-93c0-4c86-b616-2843fbe9247d",
        "colab": {
          "base_uri": "https://localhost:8080/",
          "height": 34
        }
      },
      "source": [
        "a = tf.placeholder(tf.float32)\n",
        "b = tf.placeholder(tf.float32)\n",
        "\n",
        "adder_node  = a+b\n",
        "sess = tf.Session()\n",
        "\n",
        "print(sess.run(adder_node, {a:[1,3], b:[2,4]}))"
      ],
      "execution_count": 0,
      "outputs": [
        {
          "output_type": "stream",
          "text": [
            "[3. 7.]\n"
          ],
          "name": "stdout"
        }
      ]
    },
    {
      "cell_type": "markdown",
      "metadata": {
        "id": "wum9oz3jNQby",
        "colab_type": "text"
      },
      "source": [
        "Variables? To add trainable parameters to a graph"
      ]
    },
    {
      "cell_type": "code",
      "metadata": {
        "id": "a-Q6vkWlNZH8",
        "colab_type": "code",
        "outputId": "0beff898-da3c-4e2a-99cc-174b6fc26a1f",
        "colab": {
          "base_uri": "https://localhost:8080/",
          "height": 34
        }
      },
      "source": [
        "w = tf.Variable([.3], tf.float32)\n",
        "b = tf.Variable([-.3], tf.float32)\n",
        "\n",
        "x = tf.placeholder(tf.float32)\n",
        "\n",
        "linear_model = w*x + b\n",
        "init = tf.global_variables_initializer()\n",
        "\n",
        "sess = tf.Session()\n",
        "\n",
        "sess.run(init)\n",
        "print(sess.run(linear_model, {x:[1,2,3,4]}))"
      ],
      "execution_count": 0,
      "outputs": [
        {
          "output_type": "stream",
          "text": [
            "[0.         0.3        0.6        0.90000004]\n"
          ],
          "name": "stdout"
        }
      ]
    },
    {
      "cell_type": "markdown",
      "metadata": {
        "id": "P1rMpOa9O9ZC",
        "colab_type": "text"
      },
      "source": [
        "A loss function measures how far apart the current model is from the provided data."
      ]
    },
    {
      "cell_type": "code",
      "metadata": {
        "id": "_IVjQXSrPHhw",
        "colab_type": "code",
        "outputId": "03eeaf24-123e-4329-e21f-4fbed2fe764a",
        "colab": {
          "base_uri": "https://localhost:8080/",
          "height": 34
        }
      },
      "source": [
        "y = tf.placeholder(tf.float32)\n",
        "\n",
        "square_deltas = tf.square(linear_model - y)\n",
        "\n",
        "loss = tf.reduce_sum(square_deltas)\n",
        "\n",
        "print(sess.run(loss, {x:[1,2,3,4], y:[0,-1,-2,-3]}))"
      ],
      "execution_count": 0,
      "outputs": [
        {
          "output_type": "stream",
          "text": [
            "23.66\n"
          ],
          "name": "stdout"
        }
      ]
    },
    {
      "cell_type": "markdown",
      "metadata": {
        "id": "9bViHQapP-gH",
        "colab_type": "text"
      },
      "source": [
        "This is too much loss, to reduce loss, tf provides variables to minimize loss function, simplest is Gradient Descent"
      ]
    },
    {
      "cell_type": "code",
      "metadata": {
        "id": "bMtq9FPUQLc-",
        "colab_type": "code",
        "outputId": "e6b8213e-0a0f-4943-d4a9-2cb2751452f7",
        "colab": {
          "base_uri": "https://localhost:8080/",
          "height": 34
        }
      },
      "source": [
        "optimizer = tf.train.GradientDescentOptimizer(0.01)\n",
        "train = optimizer.minimize(loss)\n",
        "sess.run(init)\n",
        "\n",
        "for i in range(1000):\n",
        "  sess.run(train, {x:[1,2,3,4], y:[0,-1,-2,-3]})\n",
        "  \n",
        "print(sess.run([w,b]))"
      ],
      "execution_count": 0,
      "outputs": [
        {
          "output_type": "stream",
          "text": [
            "[array([-0.9999969], dtype=float32), array([0.9999908], dtype=float32)]\n"
          ],
          "name": "stdout"
        }
      ]
    },
    {
      "cell_type": "markdown",
      "metadata": {
        "id": "P-81UzqPRQ3H",
        "colab_type": "text"
      },
      "source": [
        "# AND Gate Implementation"
      ]
    },
    {
      "cell_type": "code",
      "metadata": {
        "id": "7WSkHbKXRbjE",
        "colab_type": "code",
        "outputId": "52d2ddc2-ee97-4f55-d715-252f170a086f",
        "colab": {
          "base_uri": "https://localhost:8080/",
          "height": 68
        }
      },
      "source": [
        "import tensorflow as tf\n",
        "\n",
        "T , F = 1., -1.\n",
        "\n",
        "bias = 1.\n",
        "\n",
        "train_in = [\n",
        "    [T,T,bias],\n",
        "    [T,F,bias],\n",
        "    [F,T,bias],\n",
        "    [F,F, bias],\n",
        "]\n",
        "\n",
        "\n",
        "train_out = [\n",
        "    [T],\n",
        "    [F],\n",
        "    [F],\n",
        "    [F],\n",
        "]\n",
        "\n",
        "w = tf.Variable(tf.random_normal([3,1]))\n",
        "                \n",
        "def step(x):\n",
        "                is_greater = tf.greater(x,0)\n",
        "                as_float = tf.cast(is_greater, float)\n",
        "                doubled = tf.multiply(as_float, 2)\n",
        "                return tf.subtract(doubled,1)\n",
        "               \n",
        "output = step(tf.matmul(train_in, w))\n",
        "error = tf.subtract(train_out, output)\n",
        "mse = tf.reduce_mean(tf.square(error))\n",
        "                \n",
        "delta = tf.matmul(train_in, error, transpose_a = True)\n",
        "train = tf.assign(w, tf.add(w,delta))\n",
        "                \n",
        "sess = tf.Session()\n",
        "sess.run(tf.initialize_all_variables())\n",
        "               \n",
        "err, target = 1, 0\n",
        "epoch, max_epoch = 0, 10\n",
        "while err>target and epoch<max_epoch:\n",
        "                epoch +=1\n",
        "                err, _ = sess.run([mse,train])\n",
        "                print('epoch:', epoch, 'mse:',err)"
      ],
      "execution_count": 0,
      "outputs": [
        {
          "output_type": "stream",
          "text": [
            "epoch: 1 mse: 1.0\n",
            "epoch: 2 mse: 2.0\n",
            "epoch: 3 mse: 0.0\n"
          ],
          "name": "stdout"
        }
      ]
    },
    {
      "cell_type": "markdown",
      "metadata": {
        "id": "BF63muycdLz5",
        "colab_type": "text"
      },
      "source": [
        "#OR Gate"
      ]
    },
    {
      "cell_type": "code",
      "metadata": {
        "id": "nv0Th02TdPR8",
        "colab_type": "code",
        "outputId": "8573fa02-1605-4285-f92f-1fc0ac7fe6df",
        "colab": {
          "base_uri": "https://localhost:8080/",
          "height": 68
        }
      },
      "source": [
        "T , F = 1. ,-1.\n",
        "bias = 1.\n",
        "\n",
        "train_in = [\n",
        "    [T,T,bias],\n",
        "    [T,F,bias],\n",
        "    [F,T,bias],\n",
        "    [F,F,bias],\n",
        "]\n",
        "\n",
        "train_out = [\n",
        "    [T],\n",
        "    [T],\n",
        "    [T],\n",
        "    [F],\n",
        "]\n",
        "\n",
        "w = tf.Variable(tf.random_normal([3,1]))\n",
        "\n",
        "def step(x):\n",
        "  is_greater = tf.greater(x,0)\n",
        "  to_float = tf.cast(is_greater, float)\n",
        "  doubled = tf.multiply(to_float,2)\n",
        "  return tf.subtract(doubled,1)\n",
        "\n",
        "output = step(tf.matmul(train_in,w))\n",
        "error = tf.subtract(train_out,output)\n",
        "mse = tf.reduce_mean(tf.square(error))\n",
        "\n",
        "delta = tf.matmul(train_in, error, transpose_a=True)\n",
        "train = tf.assign(w, tf.add(w,delta))\n",
        "\n",
        "                \n",
        "sess = tf.Session()\n",
        "sess.run(tf.initialize_all_variables())\n",
        "               \n",
        "err, target = 1, 0\n",
        "epoch, max_epoch = 0, 10\n",
        "while err>target and epoch<max_epoch:\n",
        "                epoch +=1\n",
        "                err, _ = sess.run([mse,train])\n",
        "                print('epoch:', epoch, 'mse:',err)"
      ],
      "execution_count": 0,
      "outputs": [
        {
          "output_type": "stream",
          "text": [
            "epoch: 1 mse: 3.0\n",
            "epoch: 2 mse: 1.0\n",
            "epoch: 3 mse: 0.0\n"
          ],
          "name": "stdout"
        }
      ]
    },
    {
      "cell_type": "code",
      "metadata": {
        "id": "gXDjErY9gO3q",
        "colab_type": "code",
        "outputId": "622c796a-98e0-49ee-dc8c-a8232997f8b5",
        "colab": {
          "base_uri": "https://localhost:8080/",
          "height": 34
        }
      },
      "source": [
        ""
      ],
      "execution_count": 0,
      "outputs": [
        {
          "output_type": "stream",
          "text": [
            "Tensor(\"random_normal_23:0\", shape=(3, 1), dtype=float32)\n"
          ],
          "name": "stdout"
        }
      ]
    },
    {
      "cell_type": "markdown",
      "metadata": {
        "id": "QifS7KYskeWE",
        "colab_type": "text"
      },
      "source": [
        "#MNIST "
      ]
    },
    {
      "cell_type": "code",
      "metadata": {
        "id": "GhPFVXNvkigs",
        "colab_type": "code",
        "outputId": "d9548e25-21a0-4637-d2ae-def854e41d8e",
        "colab": {
          "base_uri": "https://localhost:8080/",
          "height": 156
        }
      },
      "source": [
        "# import tensorflow as tf\n",
        "# mnist = tf.keras.datasets.mnist\n",
        "# (X_train, y_train), (X_test, y_test) = mnist.load_data()\n",
        "from tensorflow.examples.tutorials.mnist import input_data\n",
        "mnist = input_data.read_data_sets('MNIST_data', one_hot = True)\n",
        "sess = tf.InteractiveSession()\n",
        "\n",
        "x = tf.placeholder(tf.float32, shape = [None, 784])\n",
        "y = tf.placeholder(tf.float32, shape = [None,10])\n",
        "\n",
        "w = tf.Variable(tf.zeros([784,10]))\n",
        "b = tf.Variable(tf.zeros([10]))\n",
        "\n",
        "sess.run(tf.global_variables_initializer())\n",
        "\n",
        "y_ = tf.matmul(x,w) + b\n",
        "\n",
        "#cross entropy loss function\n",
        "\n",
        "cross_entropy = tf.reduce_mean(\n",
        "  tf.nn.softmax_cross_entropy_with_logits(labels = y, logits = y_) \n",
        ")\n",
        "\n",
        "#train the model using optimizer\n",
        "train_step = tf.train.GradientDescentOptimizer(0.5).minimize(cross_entropy)\n",
        "for _ in range(1000):\n",
        "  batch = mnist.train.next_batch(100)\n",
        "  train_step.run(feed_dict = {x: batch[0], y: batch[1]})\n",
        "\n",
        "correct_prediction = tf.equal(tf.argmax(y_,1), tf.argmax(y,1))\n",
        "\n",
        "accuracy = tf.reduce_mean(tf.cast(correct_prediction, tf.float32))\n",
        "\n",
        "print(accuracy.eval(feed_dict = {x:mnist.test.images, y: mnist.test.labels}))"
      ],
      "execution_count": 0,
      "outputs": [
        {
          "output_type": "stream",
          "text": [
            "Extracting MNIST_data/train-images-idx3-ubyte.gz\n",
            "Extracting MNIST_data/train-labels-idx1-ubyte.gz\n",
            "Extracting MNIST_data/t10k-images-idx3-ubyte.gz\n",
            "Extracting MNIST_data/t10k-labels-idx1-ubyte.gz\n"
          ],
          "name": "stdout"
        },
        {
          "output_type": "stream",
          "text": [
            "/usr/local/lib/python3.6/dist-packages/tensorflow_core/python/client/session.py:1750: UserWarning: An interactive session is already active. This can cause out-of-memory errors in some cases. You must explicitly call `InteractiveSession.close()` to release resources held by the other session(s).\n",
            "  warnings.warn('An interactive session is already active. This can '\n"
          ],
          "name": "stderr"
        },
        {
          "output_type": "stream",
          "text": [
            "0.9158\n"
          ],
          "name": "stdout"
        }
      ]
    },
    {
      "cell_type": "code",
      "metadata": {
        "id": "OrVma8z-qNAl",
        "colab_type": "code",
        "colab": {}
      },
      "source": [
        "  "
      ],
      "execution_count": 0,
      "outputs": []
    }
  ]
}